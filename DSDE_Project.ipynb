{
 "cells": [
  {
   "cell_type": "code",
   "execution_count": 1,
   "id": "cdd2bf8d-74b4-4656-9770-03cf7bd7bf3f",
   "metadata": {},
   "outputs": [],
   "source": [
    "#Libraries\n",
    "import pandas as pd\n",
    "import numpy as np\n",
    "import boto3\n",
    "import yfinance as yf\n",
    "import json"
   ]
  },
  {
   "cell_type": "code",
   "execution_count": 82,
   "id": "6ba79713-a3c9-4a2f-9df6-f07f81c49654",
   "metadata": {},
   "outputs": [],
   "source": [
    "file= open(r\"C:\\Users\\akash\\Desktop\\UNH\\Sem2\\DSDE\\Project\\credentials.json\")\n",
    "credentials= json.load(file)\n"
   ]
  },
  {
   "cell_type": "code",
   "execution_count": 83,
   "id": "de1bcf7f",
   "metadata": {},
   "outputs": [],
   "source": [
    "aws_access_key_id = credentials[\"aws_access_key_id\"]\n",
    "aws_secret_access_key = credentials[\"aws_secret_access_key\"]\n",
    "aws_session_token = credentials[\"aws_session_token\"]"
   ]
  },
  {
   "cell_type": "code",
   "execution_count": 84,
   "id": "a0eca5f3-587c-409e-bfde-36031bf801e2",
   "metadata": {},
   "outputs": [],
   "source": [
    "#AWS session\n",
    "session = boto3.Session(\n",
    "    aws_access_key_id=aws_access_key_id,\n",
    "    aws_secret_access_key=aws_secret_access_key,\n",
    "    aws_session_token=aws_session_token\n",
    ")"
   ]
  },
  {
   "cell_type": "code",
   "execution_count": 85,
   "id": "b706d3c4-541a-4c48-a44e-622b86573997",
   "metadata": {},
   "outputs": [
    {
     "name": "stdout",
     "output_type": "stream",
     "text": [
      "S3 Buckets:\n",
      "akashthakkar.lab2.com\n",
      "aws-logs-590184147181-us-east-1\n",
      "final-project-stock-predict\n",
      "lab-2-bucket\n",
      "lab-bucket-one\n",
      "sparkify-5-ak\n",
      "sparkify-lab-3\n"
     ]
    }
   ],
   "source": [
    "#Session Test\n",
    "s3 = session.client('s3')\n",
    "# List S3 buckets\n",
    "response = s3.list_buckets()\n",
    "buckets = [bucket['Name'] for bucket in response['Buckets']]\n",
    "print(\"S3 Buckets:\")\n",
    "for bucket in buckets:\n",
    "    print(bucket)"
   ]
  },
  {
   "cell_type": "code",
   "execution_count": null,
   "id": "c48c678e-176e-4c3c-abbd-f4798670c1bd",
   "metadata": {},
   "outputs": [],
   "source": [
    "def fetch_sp400_symbols():\n",
    "    try:\n",
    "        # Retrieve the list of S&P 400 companies from a reliable source\n",
    "        # Replace the URL with the appropriate source if available\n",
    "        sp400_companies = pd.read_html('https://en.wikipedia.org/wiki/List_of_S%26P_400_companies')[0]\n",
    "        \n",
    "        # Extract symbols\n",
    "        symbols = sp400_companies['Symbol'].tolist()\n",
    "        return symbols\n",
    "    except Exception as e:\n",
    "        print(f\"Error fetching S&P 400 symbols: {str(e)}\")\n",
    "        return None\n",
    "\n",
    "# Function to fetch symbols for all companies in the S&P 600 index\n",
    "def fetch_sp600_symbols():\n",
    "    try:\n",
    "        # Retrieve the list of S&P 600 companies from a reliable source\n",
    "        # Replace the URL with the appropriate source if available\n",
    "        sp600_companies = pd.read_html('https://en.wikipedia.org/wiki/List_of_S%26P_600_companies')[0]\n",
    "        \n",
    "        # Extract symbols\n",
    "        symbols = sp600_companies['Symbol'].tolist()\n",
    "        return symbols\n",
    "    except Exception as e:\n",
    "        print(f\"Error fetching S&P 600 symbols: {str(e)}\")\n",
    "        return None\n",
    "    \n",
    "def fetch_sp500_data():\n",
    "    try:\n",
    "        # Retrieve the list of S&P 500 companies\n",
    "        sp500_companies = pd.read_html('https://en.wikipedia.org/wiki/List_of_S%26P_500_companies')[0]\n",
    "        sp500_symbols = sp500_companies['Symbol'].tolist()\n",
    "\n",
    "        # Create an empty DataFrame to store all data\n",
    "        \n",
    "\n",
    "        # Loop through each symbol and fetch data\n",
    "        \n",
    "\n",
    "        return sp500_symbols\n",
    "    except Exception as e:\n",
    "        print(f\"Error fetching S&P 500 symbols: {str(e)}\")\n",
    "        return None"
   ]
  },
  {
   "cell_type": "code",
   "execution_count": null,
   "id": "ab5b971a",
   "metadata": {},
   "outputs": [],
   "source": [
    "def fetch__symbols():\n",
    "    # Fetch symbols for S&P 400 and S&P 600 indexes\n",
    "    sp400_symbols = fetch_sp400_symbols()\n",
    "    sp600_symbols = fetch_sp600_symbols()\n",
    "    sp500_symbols = fetch_sp500_data()\n",
    "    if sp400_symbols is None or sp600_symbols is None or sp500_symbols is None:\n",
    "        print(\"Failed to fetch symbols for S&P 400 or S&P 600 or S&P 500. Exiting...\")\n",
    "        return None\n",
    "    \n",
    "    # Combine the lists of symbols\n",
    "    sp1000_symbols = sp400_symbols + sp600_symbols + sp500_symbols\n",
    "    \n",
    "    # Remove duplicates (if any)\n",
    "    sp1000_symbols = list(set(sp1000_symbols))\n",
    "    \n",
    "    return sp1000_symbols"
   ]
  },
  {
   "cell_type": "code",
   "execution_count": null,
   "id": "fb39a8e1",
   "metadata": {},
   "outputs": [],
   "source": [
    "def fetch_symbol_data(symbol, start_date, end_date):\n",
    "    try:\n",
    "        # Fetch historical data using yfinance\n",
    "        data = yf.download(symbol, start=start_date, end=end_date)\n",
    "        if not data.empty:\n",
    "            data['Symbol'] = symbol  # Add symbol column\n",
    "            data['Date'] = data.index  # Add date column\n",
    "        return data\n",
    "    except Exception as e:\n",
    "        print(f\"Error fetching data for {symbol}: {str(e)}\")\n",
    "        return None"
   ]
  },
  {
   "cell_type": "code",
   "execution_count": null,
   "id": "ec935bde",
   "metadata": {},
   "outputs": [],
   "source": [
    "def fetch_all_data(start_date, end_date):\n",
    "    # Fetch symbols for all companies in the S&P 1000 index\n",
    "    symbols = fetch__symbols()\n",
    "    \n",
    "    if symbols is None:\n",
    "        print(\"Failed to fetch symbols. Exiting...\")\n",
    "        return None\n",
    "    \n",
    "    # Create empty lists to store fetched and not fetched symbols\n",
    "    symbols_fetched = []\n",
    "    symbols_not_fetched = []\n",
    "    \n",
    "    # Create an empty DataFrame to store all data\n",
    "    all_data = pd.DataFrame()\n",
    "    \n",
    "    # Loop through each symbol and fetch data\n",
    "    for symbol in symbols:\n",
    "        attempts = 0\n",
    "        while attempts < 5:  # Try up to 5 times to fetch data\n",
    "            print(f\"Fetching data for {symbol} (Attempt {attempts + 1})...\")\n",
    "            data = fetch_symbol_data(symbol, start_date, end_date)\n",
    "            if data is not None and not data.empty:\n",
    "                all_data = pd.concat([all_data, data], ignore_index=True)\n",
    "                symbols_fetched.append(symbol)\n",
    "                break  # Exit the loop if data is successfully fetched\n",
    "            else:\n",
    "                attempts += 1\n",
    "                if attempts == 5:\n",
    "                    symbols_not_fetched.append(symbol)  # Add symbol to the list if not fetched\n",
    "                    print(f\"Unable to fetch data for {symbol} after 5 attempts.\")\n",
    "    \n",
    "    # Save symbols that were fetched to a CSV file\n",
    "    if symbols_fetched:\n",
    "        fetched_df = pd.DataFrame({'Symbol': symbols_fetched})\n",
    "        fetched_df.to_csv('symbols_fetched.csv', index=False)\n",
    "        print(\"Symbols that were fetched saved to symbols_fetched.csv\")\n",
    "    \n",
    "    # Save symbols that were not fetched to a CSV file\n",
    "    if symbols_not_fetched:\n",
    "        not_fetched_df = pd.DataFrame({'Symbol': symbols_not_fetched})\n",
    "        not_fetched_df.to_csv('symbols_not_fetched.csv', index=False)\n",
    "        print(\"Symbols that were not fetched saved to symbols_not_fetched.csv\")\n",
    "    \n",
    "    return all_data\n",
    "\n",
    "# Define start and end dates for data retrieval\n",
    "start_date = datetime(2000, 1, 1)  # January 1, 2000\n",
    "end_date = datetime.now()  # Current date\n",
    "\n",
    "# Fetch historical data for all companies in the S&P 1000 index\n",
    "all_data = fetch_all_data(start_date, end_date)\n",
    "\n",
    "# Save all data to a CSV file\n",
    "if all_data is not None and not all_data.empty:\n",
    "    all_data.to_csv('sp1000_all_data.csv', index=False)\n",
    "    print(\"All data saved to sp1000_all_data.csv\")\n",
    "else:\n",
    "    print(\"No data fetched. Check the error messages for details.\")"
   ]
  },
  {
   "cell_type": "code",
   "execution_count": 52,
   "id": "88a3ecd9",
   "metadata": {},
   "outputs": [],
   "source": [
    "data=pd.read_csv(r\"C:\\Users\\akash\\Desktop\\UNH\\Sem2\\DSDE\\Project\\sp1000_all_data.csv\")"
   ]
  },
  {
   "cell_type": "code",
   "execution_count": 53,
   "id": "3128ed0e",
   "metadata": {},
   "outputs": [
    {
     "data": {
      "text/plain": [
       "(7411188, 8)"
      ]
     },
     "execution_count": 53,
     "metadata": {},
     "output_type": "execute_result"
    }
   ],
   "source": [
    "data.shape"
   ]
  },
  {
   "cell_type": "code",
   "execution_count": 54,
   "id": "4f9b590d",
   "metadata": {},
   "outputs": [
    {
     "data": {
      "text/html": [
       "<div>\n",
       "<style scoped>\n",
       "    .dataframe tbody tr th:only-of-type {\n",
       "        vertical-align: middle;\n",
       "    }\n",
       "\n",
       "    .dataframe tbody tr th {\n",
       "        vertical-align: top;\n",
       "    }\n",
       "\n",
       "    .dataframe thead th {\n",
       "        text-align: right;\n",
       "    }\n",
       "</style>\n",
       "<table border=\"1\" class=\"dataframe\">\n",
       "  <thead>\n",
       "    <tr style=\"text-align: right;\">\n",
       "      <th></th>\n",
       "      <th>Open</th>\n",
       "      <th>High</th>\n",
       "      <th>Low</th>\n",
       "      <th>Close</th>\n",
       "      <th>Adj Close</th>\n",
       "      <th>Volume</th>\n",
       "      <th>Symbol</th>\n",
       "      <th>Date</th>\n",
       "    </tr>\n",
       "  </thead>\n",
       "  <tbody>\n",
       "    <tr>\n",
       "      <th>0</th>\n",
       "      <td>32.093750</td>\n",
       "      <td>32.093750</td>\n",
       "      <td>30.34375</td>\n",
       "      <td>31.625000</td>\n",
       "      <td>23.279243</td>\n",
       "      <td>14356400</td>\n",
       "      <td>AMAT</td>\n",
       "      <td>2000-01-03</td>\n",
       "    </tr>\n",
       "    <tr>\n",
       "      <th>1</th>\n",
       "      <td>30.437500</td>\n",
       "      <td>31.312500</td>\n",
       "      <td>30.00000</td>\n",
       "      <td>30.062500</td>\n",
       "      <td>22.129076</td>\n",
       "      <td>22822400</td>\n",
       "      <td>AMAT</td>\n",
       "      <td>2000-01-04</td>\n",
       "    </tr>\n",
       "    <tr>\n",
       "      <th>2</th>\n",
       "      <td>29.515625</td>\n",
       "      <td>30.046875</td>\n",
       "      <td>28.40625</td>\n",
       "      <td>28.937500</td>\n",
       "      <td>21.300964</td>\n",
       "      <td>27791200</td>\n",
       "      <td>AMAT</td>\n",
       "      <td>2000-01-05</td>\n",
       "    </tr>\n",
       "    <tr>\n",
       "      <th>3</th>\n",
       "      <td>28.562500</td>\n",
       "      <td>29.718750</td>\n",
       "      <td>28.06250</td>\n",
       "      <td>28.984375</td>\n",
       "      <td>21.335476</td>\n",
       "      <td>22438000</td>\n",
       "      <td>AMAT</td>\n",
       "      <td>2000-01-06</td>\n",
       "    </tr>\n",
       "    <tr>\n",
       "      <th>4</th>\n",
       "      <td>28.187500</td>\n",
       "      <td>29.265625</td>\n",
       "      <td>27.75000</td>\n",
       "      <td>29.234375</td>\n",
       "      <td>21.519495</td>\n",
       "      <td>37732400</td>\n",
       "      <td>AMAT</td>\n",
       "      <td>2000-01-07</td>\n",
       "    </tr>\n",
       "  </tbody>\n",
       "</table>\n",
       "</div>"
      ],
      "text/plain": [
       "        Open       High       Low      Close  Adj Close    Volume Symbol  \\\n",
       "0  32.093750  32.093750  30.34375  31.625000  23.279243  14356400   AMAT   \n",
       "1  30.437500  31.312500  30.00000  30.062500  22.129076  22822400   AMAT   \n",
       "2  29.515625  30.046875  28.40625  28.937500  21.300964  27791200   AMAT   \n",
       "3  28.562500  29.718750  28.06250  28.984375  21.335476  22438000   AMAT   \n",
       "4  28.187500  29.265625  27.75000  29.234375  21.519495  37732400   AMAT   \n",
       "\n",
       "         Date  \n",
       "0  2000-01-03  \n",
       "1  2000-01-04  \n",
       "2  2000-01-05  \n",
       "3  2000-01-06  \n",
       "4  2000-01-07  "
      ]
     },
     "execution_count": 54,
     "metadata": {},
     "output_type": "execute_result"
    }
   ],
   "source": [
    "data.head()"
   ]
  },
  {
   "cell_type": "code",
   "execution_count": 55,
   "id": "c552e6b9",
   "metadata": {},
   "outputs": [
    {
     "data": {
      "text/html": [
       "<div>\n",
       "<style scoped>\n",
       "    .dataframe tbody tr th:only-of-type {\n",
       "        vertical-align: middle;\n",
       "    }\n",
       "\n",
       "    .dataframe tbody tr th {\n",
       "        vertical-align: top;\n",
       "    }\n",
       "\n",
       "    .dataframe thead th {\n",
       "        text-align: right;\n",
       "    }\n",
       "</style>\n",
       "<table border=\"1\" class=\"dataframe\">\n",
       "  <thead>\n",
       "    <tr style=\"text-align: right;\">\n",
       "      <th></th>\n",
       "      <th>Open</th>\n",
       "      <th>High</th>\n",
       "      <th>Low</th>\n",
       "      <th>Close</th>\n",
       "      <th>Adj Close</th>\n",
       "      <th>Volume</th>\n",
       "    </tr>\n",
       "  </thead>\n",
       "  <tbody>\n",
       "    <tr>\n",
       "      <th>count</th>\n",
       "      <td>7.411188e+06</td>\n",
       "      <td>7.411188e+06</td>\n",
       "      <td>7.411188e+06</td>\n",
       "      <td>7.411188e+06</td>\n",
       "      <td>7.411188e+06</td>\n",
       "      <td>7.411188e+06</td>\n",
       "    </tr>\n",
       "    <tr>\n",
       "      <th>mean</th>\n",
       "      <td>5.462111e+01</td>\n",
       "      <td>5.534160e+01</td>\n",
       "      <td>5.388150e+01</td>\n",
       "      <td>5.462513e+01</td>\n",
       "      <td>4.782308e+01</td>\n",
       "      <td>2.983577e+06</td>\n",
       "    </tr>\n",
       "    <tr>\n",
       "      <th>std</th>\n",
       "      <td>1.228581e+02</td>\n",
       "      <td>1.245192e+02</td>\n",
       "      <td>1.211912e+02</td>\n",
       "      <td>1.228789e+02</td>\n",
       "      <td>1.161443e+02</td>\n",
       "      <td>1.949975e+07</td>\n",
       "    </tr>\n",
       "    <tr>\n",
       "      <th>min</th>\n",
       "      <td>1.000000e-04</td>\n",
       "      <td>1.000000e-04</td>\n",
       "      <td>1.000000e-04</td>\n",
       "      <td>1.000000e-04</td>\n",
       "      <td>1.000000e-04</td>\n",
       "      <td>0.000000e+00</td>\n",
       "    </tr>\n",
       "    <tr>\n",
       "      <th>25%</th>\n",
       "      <td>1.687001e+01</td>\n",
       "      <td>1.714286e+01</td>\n",
       "      <td>1.658333e+01</td>\n",
       "      <td>1.687500e+01</td>\n",
       "      <td>1.266783e+01</td>\n",
       "      <td>2.106000e+05</td>\n",
       "    </tr>\n",
       "    <tr>\n",
       "      <th>50%</th>\n",
       "      <td>3.119000e+01</td>\n",
       "      <td>3.164000e+01</td>\n",
       "      <td>3.073171e+01</td>\n",
       "      <td>3.120000e+01</td>\n",
       "      <td>2.460000e+01</td>\n",
       "      <td>6.484000e+05</td>\n",
       "    </tr>\n",
       "    <tr>\n",
       "      <th>75%</th>\n",
       "      <td>5.770000e+01</td>\n",
       "      <td>5.842000e+01</td>\n",
       "      <td>5.695098e+01</td>\n",
       "      <td>5.770000e+01</td>\n",
       "      <td>4.889920e+01</td>\n",
       "      <td>1.978500e+06</td>\n",
       "    </tr>\n",
       "    <tr>\n",
       "      <th>max</th>\n",
       "      <td>8.097980e+03</td>\n",
       "      <td>8.211400e+03</td>\n",
       "      <td>8.010000e+03</td>\n",
       "      <td>8.099960e+03</td>\n",
       "      <td>8.099960e+03</td>\n",
       "      <td>7.421641e+09</td>\n",
       "    </tr>\n",
       "  </tbody>\n",
       "</table>\n",
       "</div>"
      ],
      "text/plain": [
       "               Open          High           Low         Close     Adj Close  \\\n",
       "count  7.411188e+06  7.411188e+06  7.411188e+06  7.411188e+06  7.411188e+06   \n",
       "mean   5.462111e+01  5.534160e+01  5.388150e+01  5.462513e+01  4.782308e+01   \n",
       "std    1.228581e+02  1.245192e+02  1.211912e+02  1.228789e+02  1.161443e+02   \n",
       "min    1.000000e-04  1.000000e-04  1.000000e-04  1.000000e-04  1.000000e-04   \n",
       "25%    1.687001e+01  1.714286e+01  1.658333e+01  1.687500e+01  1.266783e+01   \n",
       "50%    3.119000e+01  3.164000e+01  3.073171e+01  3.120000e+01  2.460000e+01   \n",
       "75%    5.770000e+01  5.842000e+01  5.695098e+01  5.770000e+01  4.889920e+01   \n",
       "max    8.097980e+03  8.211400e+03  8.010000e+03  8.099960e+03  8.099960e+03   \n",
       "\n",
       "             Volume  \n",
       "count  7.411188e+06  \n",
       "mean   2.983577e+06  \n",
       "std    1.949975e+07  \n",
       "min    0.000000e+00  \n",
       "25%    2.106000e+05  \n",
       "50%    6.484000e+05  \n",
       "75%    1.978500e+06  \n",
       "max    7.421641e+09  "
      ]
     },
     "execution_count": 55,
     "metadata": {},
     "output_type": "execute_result"
    }
   ],
   "source": [
    "data.describe()"
   ]
  },
  {
   "cell_type": "code",
   "execution_count": 42,
   "id": "9997c3a0",
   "metadata": {},
   "outputs": [
    {
     "data": {
      "text/html": [
       "<div>\n",
       "<style scoped>\n",
       "    .dataframe tbody tr th:only-of-type {\n",
       "        vertical-align: middle;\n",
       "    }\n",
       "\n",
       "    .dataframe tbody tr th {\n",
       "        vertical-align: top;\n",
       "    }\n",
       "\n",
       "    .dataframe thead th {\n",
       "        text-align: right;\n",
       "    }\n",
       "</style>\n",
       "<table border=\"1\" class=\"dataframe\">\n",
       "  <thead>\n",
       "    <tr style=\"text-align: right;\">\n",
       "      <th></th>\n",
       "      <th>count</th>\n",
       "      <th>mean</th>\n",
       "      <th>std</th>\n",
       "      <th>min</th>\n",
       "      <th>25%</th>\n",
       "      <th>50%</th>\n",
       "      <th>75%</th>\n",
       "      <th>max</th>\n",
       "    </tr>\n",
       "    <tr>\n",
       "      <th>Symbol</th>\n",
       "      <th></th>\n",
       "      <th></th>\n",
       "      <th></th>\n",
       "      <th></th>\n",
       "      <th></th>\n",
       "      <th></th>\n",
       "      <th></th>\n",
       "      <th></th>\n",
       "    </tr>\n",
       "  </thead>\n",
       "  <tbody>\n",
       "    <tr>\n",
       "      <th>A</th>\n",
       "      <td>6108.0</td>\n",
       "      <td>49.722804</td>\n",
       "      <td>39.877374</td>\n",
       "      <td>7.761087</td>\n",
       "      <td>22.523248</td>\n",
       "      <td>32.396278</td>\n",
       "      <td>66.902502</td>\n",
       "      <td>179.279999</td>\n",
       "    </tr>\n",
       "    <tr>\n",
       "      <th>AA</th>\n",
       "      <td>6108.0</td>\n",
       "      <td>47.484370</td>\n",
       "      <td>24.980743</td>\n",
       "      <td>5.480000</td>\n",
       "      <td>25.471800</td>\n",
       "      <td>39.365570</td>\n",
       "      <td>71.043194</td>\n",
       "      <td>113.782051</td>\n",
       "    </tr>\n",
       "    <tr>\n",
       "      <th>AAL</th>\n",
       "      <td>4667.0</td>\n",
       "      <td>24.631421</td>\n",
       "      <td>15.587904</td>\n",
       "      <td>1.760000</td>\n",
       "      <td>11.425000</td>\n",
       "      <td>19.549999</td>\n",
       "      <td>38.575001</td>\n",
       "      <td>62.950001</td>\n",
       "    </tr>\n",
       "    <tr>\n",
       "      <th>AAON</th>\n",
       "      <td>6108.0</td>\n",
       "      <td>15.840100</td>\n",
       "      <td>17.903313</td>\n",
       "      <td>0.790123</td>\n",
       "      <td>2.763786</td>\n",
       "      <td>5.989630</td>\n",
       "      <td>23.936666</td>\n",
       "      <td>92.879997</td>\n",
       "    </tr>\n",
       "    <tr>\n",
       "      <th>AAP</th>\n",
       "      <td>5630.0</td>\n",
       "      <td>91.283321</td>\n",
       "      <td>60.039343</td>\n",
       "      <td>12.526667</td>\n",
       "      <td>38.155001</td>\n",
       "      <td>71.470001</td>\n",
       "      <td>149.127502</td>\n",
       "      <td>241.910004</td>\n",
       "    </tr>\n",
       "    <tr>\n",
       "      <th>...</th>\n",
       "      <td>...</td>\n",
       "      <td>...</td>\n",
       "      <td>...</td>\n",
       "      <td>...</td>\n",
       "      <td>...</td>\n",
       "      <td>...</td>\n",
       "      <td>...</td>\n",
       "      <td>...</td>\n",
       "    </tr>\n",
       "    <tr>\n",
       "      <th>ZD</th>\n",
       "      <td>6108.0</td>\n",
       "      <td>40.027323</td>\n",
       "      <td>30.439106</td>\n",
       "      <td>0.244565</td>\n",
       "      <td>17.110869</td>\n",
       "      <td>26.291305</td>\n",
       "      <td>65.358696</td>\n",
       "      <td>132.979996</td>\n",
       "    </tr>\n",
       "    <tr>\n",
       "      <th>ZEUS</th>\n",
       "      <td>6108.0</td>\n",
       "      <td>21.342263</td>\n",
       "      <td>12.959977</td>\n",
       "      <td>1.875000</td>\n",
       "      <td>13.260000</td>\n",
       "      <td>21.090000</td>\n",
       "      <td>27.219999</td>\n",
       "      <td>75.919998</td>\n",
       "    </tr>\n",
       "    <tr>\n",
       "      <th>ZI</th>\n",
       "      <td>971.0</td>\n",
       "      <td>38.880211</td>\n",
       "      <td>15.984093</td>\n",
       "      <td>12.530000</td>\n",
       "      <td>24.760000</td>\n",
       "      <td>41.270000</td>\n",
       "      <td>50.260000</td>\n",
       "      <td>77.349998</td>\n",
       "    </tr>\n",
       "    <tr>\n",
       "      <th>ZION</th>\n",
       "      <td>6108.0</td>\n",
       "      <td>43.558332</td>\n",
       "      <td>18.434824</td>\n",
       "      <td>6.480000</td>\n",
       "      <td>28.067500</td>\n",
       "      <td>43.924999</td>\n",
       "      <td>55.810001</td>\n",
       "      <td>88.279999</td>\n",
       "    </tr>\n",
       "    <tr>\n",
       "      <th>ZTS</th>\n",
       "      <td>2818.0</td>\n",
       "      <td>102.182672</td>\n",
       "      <td>59.891992</td>\n",
       "      <td>28.400000</td>\n",
       "      <td>46.707500</td>\n",
       "      <td>86.915001</td>\n",
       "      <td>161.355000</td>\n",
       "      <td>247.029999</td>\n",
       "    </tr>\n",
       "  </tbody>\n",
       "</table>\n",
       "<p>1502 rows × 8 columns</p>\n",
       "</div>"
      ],
      "text/plain": [
       "         count        mean        std        min        25%        50%  \\\n",
       "Symbol                                                                   \n",
       "A       6108.0   49.722804  39.877374   7.761087  22.523248  32.396278   \n",
       "AA      6108.0   47.484370  24.980743   5.480000  25.471800  39.365570   \n",
       "AAL     4667.0   24.631421  15.587904   1.760000  11.425000  19.549999   \n",
       "AAON    6108.0   15.840100  17.903313   0.790123   2.763786   5.989630   \n",
       "AAP     5630.0   91.283321  60.039343  12.526667  38.155001  71.470001   \n",
       "...        ...         ...        ...        ...        ...        ...   \n",
       "ZD      6108.0   40.027323  30.439106   0.244565  17.110869  26.291305   \n",
       "ZEUS    6108.0   21.342263  12.959977   1.875000  13.260000  21.090000   \n",
       "ZI       971.0   38.880211  15.984093  12.530000  24.760000  41.270000   \n",
       "ZION    6108.0   43.558332  18.434824   6.480000  28.067500  43.924999   \n",
       "ZTS     2818.0  102.182672  59.891992  28.400000  46.707500  86.915001   \n",
       "\n",
       "               75%         max  \n",
       "Symbol                          \n",
       "A        66.902502  179.279999  \n",
       "AA       71.043194  113.782051  \n",
       "AAL      38.575001   62.950001  \n",
       "AAON     23.936666   92.879997  \n",
       "AAP     149.127502  241.910004  \n",
       "...            ...         ...  \n",
       "ZD       65.358696  132.979996  \n",
       "ZEUS     27.219999   75.919998  \n",
       "ZI       50.260000   77.349998  \n",
       "ZION     55.810001   88.279999  \n",
       "ZTS     161.355000  247.029999  \n",
       "\n",
       "[1502 rows x 8 columns]"
      ]
     },
     "execution_count": 42,
     "metadata": {},
     "output_type": "execute_result"
    }
   ],
   "source": [
    "descriptive_stats = data.groupby('Symbol')['Close'].describe()\n",
    "descriptive_stats"
   ]
  },
  {
   "cell_type": "code",
   "execution_count": 56,
   "id": "5d1560e3",
   "metadata": {},
   "outputs": [],
   "source": [
    "data['Date'] = pd.to_datetime(data['Date'])\n"
   ]
  },
  {
   "cell_type": "code",
   "execution_count": 57,
   "id": "6979b95a",
   "metadata": {},
   "outputs": [
    {
     "data": {
      "text/plain": [
       "Open                float64\n",
       "High                float64\n",
       "Low                 float64\n",
       "Close               float64\n",
       "Adj Close           float64\n",
       "Volume                int64\n",
       "Symbol               object\n",
       "Date         datetime64[ns]\n",
       "dtype: object"
      ]
     },
     "execution_count": 57,
     "metadata": {},
     "output_type": "execute_result"
    }
   ],
   "source": [
    "data.dtypes"
   ]
  },
  {
   "cell_type": "code",
   "execution_count": 45,
   "id": "6ab61d42",
   "metadata": {},
   "outputs": [
    {
     "data": {
      "text/plain": [
       "Open   High   Low    Close  Adj Close  Volume  Symbol  Date \n",
       "False  False  False  False  False      False   False   False    7411188\n",
       "dtype: int64"
      ]
     },
     "execution_count": 45,
     "metadata": {},
     "output_type": "execute_result"
    }
   ],
   "source": [
    "data.isna().value_counts()"
   ]
  },
  {
   "cell_type": "code",
   "execution_count": 46,
   "id": "9d4210db",
   "metadata": {},
   "outputs": [
    {
     "data": {
      "text/plain": [
       "Timestamp('2000-01-03 00:00:00')"
      ]
     },
     "execution_count": 46,
     "metadata": {},
     "output_type": "execute_result"
    }
   ],
   "source": [
    "earliest_date = data['Date'].min()\n",
    "earliest_date\n"
   ]
  },
  {
   "cell_type": "code",
   "execution_count": 47,
   "id": "0fe83174",
   "metadata": {},
   "outputs": [
    {
     "data": {
      "text/plain": [
       "Timestamp('2024-04-12 00:00:00')"
      ]
     },
     "execution_count": 47,
     "metadata": {},
     "output_type": "execute_result"
    }
   ],
   "source": [
    "latest_date=data['Date'].max()\n",
    "latest_date"
   ]
  },
  {
   "cell_type": "code",
   "execution_count": 76,
   "id": "a81994e3",
   "metadata": {},
   "outputs": [
    {
     "data": {
      "image/png": "[encoded data removed]",
      "text/plain": [
       "<Figure size 1000x600 with 1 Axes>"
      ]
     },
     "metadata": {},
     "output_type": "display_data"
    }
   ],
   "source": [
    "import pandas as pd\n",
    "import matplotlib.pyplot as plt\n",
    "\n",
    "\n",
    "symbol_to_plot = \"WWW\"  \n",
    "\n",
    "symbol_data = data[data['Symbol'] == symbol_to_plot]\n",
    "\n",
    "# Plot the data\n",
    "plt.figure(figsize=(10, 6))\n",
    "plt.plot(symbol_data['Date'], symbol_data['Close'], label='Close Price', color='blue')\n",
    "plt.title(f'{symbol_to_plot} Closing Prices')\n",
    "plt.xlabel('Date')\n",
    "plt.ylabel('Price (USD)')\n",
    "plt.legend()\n",
    "plt.grid(True)\n",
    "plt.show()\n"
   ]
  },
  {
   "cell_type": "code",
   "execution_count": 58,
   "id": "ea10a27f",
   "metadata": {},
   "outputs": [],
   "source": [
    "#Creating Target Column for Linear Learning\n",
    "data['target_linear'] = data.groupby('Symbol')['Close'].shift(-1)\n"
   ]
  },
  {
   "cell_type": "code",
   "execution_count": 59,
   "id": "73329d20",
   "metadata": {},
   "outputs": [
    {
     "data": {
      "text/plain": [
       "Open   High   Low    Close  Adj Close  Volume  Symbol  Date   target_linear\n",
       "False  False  False  False  False      False   False   False  False            7409686\n",
       "                                                              True                1502\n",
       "dtype: int64"
      ]
     },
     "execution_count": 59,
     "metadata": {},
     "output_type": "execute_result"
    }
   ],
   "source": [
    "data.isna().value_counts()"
   ]
  },
  {
   "cell_type": "code",
   "execution_count": 65,
   "id": "1ee2ac3d",
   "metadata": {},
   "outputs": [],
   "source": [
    "data = data.dropna(subset=['target_linear'])\n"
   ]
  },
  {
   "cell_type": "code",
   "execution_count": 66,
   "id": "d5c58e32",
   "metadata": {},
   "outputs": [
    {
     "data": {
      "text/plain": [
       "Open   High   Low    Close  Adj Close  Volume  Symbol  Date   target_linear\n",
       "False  False  False  False  False      False   False   False  False            7409686\n",
       "dtype: int64"
      ]
     },
     "execution_count": 66,
     "metadata": {},
     "output_type": "execute_result"
    }
   ],
   "source": [
    "data.isna().value_counts()"
   ]
  },
  {
   "cell_type": "code",
   "execution_count": 62,
   "id": "6bbcef40",
   "metadata": {},
   "outputs": [],
   "source": [
    "data_linear = data"
   ]
  },
  {
   "cell_type": "code",
   "execution_count": 67,
   "id": "21b73eb6",
   "metadata": {},
   "outputs": [],
   "source": [
    "data['target_classifier'] = (data[\"target_linear\"] > data[\"Close\"]).astype(int)"
   ]
  },
  {
   "cell_type": "code",
   "execution_count": 72,
   "id": "936bf146",
   "metadata": {},
   "outputs": [],
   "source": [
    "data_classifier = data.drop('target_linear',axis=1)"
   ]
  },
  {
   "cell_type": "code",
   "execution_count": 78,
   "id": "d3758732",
   "metadata": {},
   "outputs": [],
   "source": [
    "data_linear.to_csv('linear_data.csv',index=False)"
   ]
  },
  {
   "cell_type": "code",
   "execution_count": 79,
   "id": "6fac8553",
   "metadata": {},
   "outputs": [],
   "source": [
    "data_classifier.to_csv('classifier_data.csv',index=False)"
   ]
  },
  {
   "cell_type": "code",
   "execution_count": 75,
   "id": "dee27e6e",
   "metadata": {},
   "outputs": [
    {
     "name": "stdout",
     "output_type": "stream",
     "text": [
      "<class 'pandas.core.frame.DataFrame'>\n",
      "Int64Index: 7409686 entries, 0 to 7411186\n",
      "Data columns (total 10 columns):\n",
      " #   Column             Dtype         \n",
      "---  ------             -----         \n",
      " 0   Open               float64       \n",
      " 1   High               float64       \n",
      " 2   Low                float64       \n",
      " 3   Close              float64       \n",
      " 4   Adj Close          float64       \n",
      " 5   Volume             int64         \n",
      " 6   Symbol             object        \n",
      " 7   Date               datetime64[ns]\n",
      " 8   target_linear      float64       \n",
      " 9   target_classifier  int32         \n",
      "dtypes: datetime64[ns](1), float64(6), int32(1), int64(1), object(1)\n",
      "memory usage: 851.6+ MB\n"
     ]
    }
   ],
   "source": [
    "data.info()"
   ]
  },
  {
   "cell_type": "code",
   "execution_count": 77,
   "id": "778ef588",
   "metadata": {},
   "outputs": [
    {
     "data": {
      "text/html": [
       "<div>\n",
       "<style scoped>\n",
       "    .dataframe tbody tr th:only-of-type {\n",
       "        vertical-align: middle;\n",
       "    }\n",
       "\n",
       "    .dataframe tbody tr th {\n",
       "        vertical-align: top;\n",
       "    }\n",
       "\n",
       "    .dataframe thead th {\n",
       "        text-align: right;\n",
       "    }\n",
       "</style>\n",
       "<table border=\"1\" class=\"dataframe\">\n",
       "  <thead>\n",
       "    <tr style=\"text-align: right;\">\n",
       "      <th></th>\n",
       "      <th>Open</th>\n",
       "      <th>High</th>\n",
       "      <th>Low</th>\n",
       "      <th>Close</th>\n",
       "      <th>Adj Close</th>\n",
       "      <th>Volume</th>\n",
       "      <th>Symbol</th>\n",
       "      <th>Date</th>\n",
       "      <th>target_linear</th>\n",
       "    </tr>\n",
       "  </thead>\n",
       "  <tbody>\n",
       "    <tr>\n",
       "      <th>0</th>\n",
       "      <td>32.093750</td>\n",
       "      <td>32.093750</td>\n",
       "      <td>30.34375</td>\n",
       "      <td>31.625000</td>\n",
       "      <td>23.279243</td>\n",
       "      <td>14356400</td>\n",
       "      <td>AMAT</td>\n",
       "      <td>2000-01-03</td>\n",
       "      <td>30.062500</td>\n",
       "    </tr>\n",
       "    <tr>\n",
       "      <th>1</th>\n",
       "      <td>30.437500</td>\n",
       "      <td>31.312500</td>\n",
       "      <td>30.00000</td>\n",
       "      <td>30.062500</td>\n",
       "      <td>22.129076</td>\n",
       "      <td>22822400</td>\n",
       "      <td>AMAT</td>\n",
       "      <td>2000-01-04</td>\n",
       "      <td>28.937500</td>\n",
       "    </tr>\n",
       "    <tr>\n",
       "      <th>2</th>\n",
       "      <td>29.515625</td>\n",
       "      <td>30.046875</td>\n",
       "      <td>28.40625</td>\n",
       "      <td>28.937500</td>\n",
       "      <td>21.300964</td>\n",
       "      <td>27791200</td>\n",
       "      <td>AMAT</td>\n",
       "      <td>2000-01-05</td>\n",
       "      <td>28.984375</td>\n",
       "    </tr>\n",
       "    <tr>\n",
       "      <th>3</th>\n",
       "      <td>28.562500</td>\n",
       "      <td>29.718750</td>\n",
       "      <td>28.06250</td>\n",
       "      <td>28.984375</td>\n",
       "      <td>21.335476</td>\n",
       "      <td>22438000</td>\n",
       "      <td>AMAT</td>\n",
       "      <td>2000-01-06</td>\n",
       "      <td>29.234375</td>\n",
       "    </tr>\n",
       "    <tr>\n",
       "      <th>4</th>\n",
       "      <td>28.187500</td>\n",
       "      <td>29.265625</td>\n",
       "      <td>27.75000</td>\n",
       "      <td>29.234375</td>\n",
       "      <td>21.519495</td>\n",
       "      <td>37732400</td>\n",
       "      <td>AMAT</td>\n",
       "      <td>2000-01-07</td>\n",
       "      <td>31.593750</td>\n",
       "    </tr>\n",
       "  </tbody>\n",
       "</table>\n",
       "</div>"
      ],
      "text/plain": [
       "        Open       High       Low      Close  Adj Close    Volume Symbol  \\\n",
       "0  32.093750  32.093750  30.34375  31.625000  23.279243  14356400   AMAT   \n",
       "1  30.437500  31.312500  30.00000  30.062500  22.129076  22822400   AMAT   \n",
       "2  29.515625  30.046875  28.40625  28.937500  21.300964  27791200   AMAT   \n",
       "3  28.562500  29.718750  28.06250  28.984375  21.335476  22438000   AMAT   \n",
       "4  28.187500  29.265625  27.75000  29.234375  21.519495  37732400   AMAT   \n",
       "\n",
       "        Date  target_linear  \n",
       "0 2000-01-03      30.062500  \n",
       "1 2000-01-04      28.937500  \n",
       "2 2000-01-05      28.984375  \n",
       "3 2000-01-06      29.234375  \n",
       "4 2000-01-07      31.593750  "
      ]
     },
     "execution_count": 77,
     "metadata": {},
     "output_type": "execute_result"
    }
   ],
   "source": [
    "data_linear.head()"
   ]
  },
  {
   "cell_type": "code",
   "execution_count": 86,
   "id": "2fbd442c",
   "metadata": {},
   "outputs": [],
   "source": [
    "s3.upload_file(r\"C:\\Users\\akash\\Desktop\\UNH\\Sem2\\DSDE\\Project\\linear_data.csv\", \"final-project-stock-predict\", \"linear_data.csv\")"
   ]
  },
  {
   "cell_type": "code",
   "execution_count": 87,
   "id": "86f9e8c8",
   "metadata": {},
   "outputs": [],
   "source": [
    "s3.upload_file(r\"C:\\Users\\akash\\Desktop\\UNH\\Sem2\\DSDE\\Project\\classifier_data.csv\", \"final-project-stock-predict\", \"classifier_data.csv\")"
   ]
  },
  {
   "cell_type": "code",
   "execution_count": 24,
   "id": "979983af",
   "metadata": {},
   "outputs": [
    {
     "data": {
      "text/plain": [
       "{'ResponseMetadata': {'RequestId': '557XY16W7Q70A9EE',\n",
       "  'HostId': 'dL+BU6NYdZkbehsvSvkUYebzSyad4M3eRi/7PJHaSFE5bm24zDG+xY8L2+8Z3o52cZOcUp3AnSY=',\n",
       "  'HTTPStatusCode': 200,\n",
       "  'HTTPHeaders': {'x-amz-id-2': 'dL+BU6NYdZkbehsvSvkUYebzSyad4M3eRi/7PJHaSFE5bm24zDG+xY8L2+8Z3o52cZOcUp3AnSY=',\n",
       "   'x-amz-request-id': '557XY16W7Q70A9EE',\n",
       "   'date': 'Tue, 16 Apr 2024 20:27:40 GMT',\n",
       "   'location': '/final-project-stock-predict',\n",
       "   'server': 'AmazonS3',\n",
       "   'content-length': '0'},\n",
       "  'RetryAttempts': 0},\n",
       " 'Location': '/final-project-stock-predict'}"
      ]
     },
     "execution_count": 24,
     "metadata": {},
     "output_type": "execute_result"
    }
   ],
   "source": [
    "#Upload Data to S3\n",
    "# s3.create_bucket(Bucket=\"final-project-stock-predict\")"
   ]
  }
 ],
 "metadata": {
  "kernelspec": {
   "display_name": "Python 3 (ipykernel)",
   "language": "python",
   "name": "python3"
  },
  "language_info": {
   "codemirror_mode": {
    "name": "ipython",
    "version": 3
   },
   "file_extension": ".py",
   "mimetype": "text/x-python",
   "name": "python",
   "nbconvert_exporter": "python",
   "pygments_lexer": "ipython3",
   "version": "3.11.1"
  }
 },
 "nbformat": 4,
 "nbformat_minor": 5
}
